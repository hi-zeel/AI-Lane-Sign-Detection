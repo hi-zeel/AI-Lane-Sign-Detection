{
 "cells": [
  {
   "cell_type": "code",
   "execution_count": 1,
   "id": "53fb9247-99c1-425e-af7c-2c0620f97de3",
   "metadata": {},
   "outputs": [],
   "source": [
    "# all imorts\n",
    "import carla\n",
    "import random\n"
   ]
  },
  {
   "cell_type": "code",
   "execution_count": 2,
   "id": "866d2cd9-727e-4257-b3b4-2226fdbf692b",
   "metadata": {},
   "outputs": [],
   "source": [
    "# connect to Carla\n",
    "client = carla.Client('localhost', 2000)\n",
    "world = client.get_world()\n",
    "\n",
    "# get a spawn point\n",
    "spawn_points = world.get_map().get_spawn_points()\n",
    "\n",
    "# get a vehicle from the library\n",
    "bp_lib = world.get_blueprint_library()\n",
    "vehicle_bp = bp_lib.filter('*vehicle.lincoln.mkz_2020*')\n",
    "\n",
    "start_point = spawn_points[0]\n",
    "\n",
    "# spawn a vehicle\n",
    "vehicle = world.try_spawn_actor(vehicle_bp[0], start_point)\n"
   ]
  },
  {
   "cell_type": "code",
   "execution_count": 3,
   "id": "901594ba-1aba-4cae-82c1-037a52cd529a",
   "metadata": {},
   "outputs": [
    {
     "name": "stdout",
     "output_type": "stream",
     "text": [
      "Transform(Location(x=-64.644844, y=24.471010, z=-0.004610), Rotation(pitch=0.000000, yaw=0.159198, roll=0.000000))\n"
     ]
    }
   ],
   "source": [
    "# get the car's positon on the map\n",
    "vehicle_pos = vehicle.get_transform()\n",
    "print(vehicle_pos)"
   ]
  },
  {
   "cell_type": "code",
   "execution_count": 4,
   "id": "b7533f1e-6a12-4fa6-a2cb-69fe5cd59d04",
   "metadata": {},
   "outputs": [
    {
     "name": "stdout",
     "output_type": "stream",
     "text": [
      "Transform(Location(x=-64.644844, y=24.471010, z=0.600000), Rotation(pitch=0.000000, yaw=0.159198, roll=0.000000))\n"
     ]
    }
   ],
   "source": [
    "# initial spawn point is the same -just 0.6m hiher off the ground\n",
    "print(start_point)"
   ]
  },
  {
   "cell_type": "code",
   "execution_count": 5,
   "id": "2452ca49-3364-4329-a452-eabaff1bdcfd",
   "metadata": {},
   "outputs": [],
   "source": [
    "# send vehicle off\n",
    "vehicle.set_autopilot()"
   ]
  },
  {
   "cell_type": "code",
   "execution_count": 6,
   "id": "11d56215-1d13-4cff-ada4-8f6372aece21",
   "metadata": {},
   "outputs": [
    {
     "name": "stdout",
     "output_type": "stream",
     "text": [
      "Transform(Location(x=-48.149189, y=15.404507, z=-0.004097), Rotation(pitch=-0.070255, yaw=-53.940308, roll=1.152731))\n"
     ]
    }
   ],
   "source": [
    "# get actual postion from the car movingvehicle\n",
    "vehicle_pos = vehicle.get_transform()\n",
    "print(vehicle_pos)"
   ]
  },
  {
   "cell_type": "code",
   "execution_count": 7,
   "id": "eb2eb683-d693-4883-b743-292212023be9",
   "metadata": {},
   "outputs": [],
   "source": [
    "# now look at the map\n",
    "town_map = world.get_map()"
   ]
  },
  {
   "cell_type": "code",
   "execution_count": 8,
   "id": "07b35f36-c7b2-41c8-b0d3-3906f34a81ef",
   "metadata": {},
   "outputs": [
    {
     "data": {
      "text/plain": [
       "carla.libcarla.Map"
      ]
     },
     "execution_count": 8,
     "metadata": {},
     "output_type": "execute_result"
    }
   ],
   "source": [
    "type(town_map)"
   ]
  },
  {
   "cell_type": "code",
   "execution_count": 9,
   "id": "bb480392-33ac-47ac-9291-f818378ff76f",
   "metadata": {},
   "outputs": [
    {
     "name": "stdout",
     "output_type": "stream",
     "text": [
      "Map(name=Carla/Maps/Town10HD_Opt)\n"
     ]
    }
   ],
   "source": [
    "print(town_map)"
   ]
  },
  {
   "cell_type": "code",
   "execution_count": 10,
   "id": "68c2d367-78ae-46fb-9170-03b15f67a432",
   "metadata": {},
   "outputs": [],
   "source": [
    "roads =town_map.get_topology()"
   ]
  },
  {
   "cell_type": "code",
   "execution_count": 11,
   "id": "721558d7-7498-441a-afac-f7866b287c70",
   "metadata": {},
   "outputs": [
    {
     "name": "stdout",
     "output_type": "stream",
     "text": [
      "[(<carla.libcarla.Waypoint object at 0x000001B5F10AB990>, <carla.libcarla.Waypoint object at 0x000001B5F10AB930>), (<carla.libcarla.Waypoint object at 0x000001B5F10ABAB0>, <carla.libcarla.Waypoint object at 0x000001B5F10AB810>), (<carla.libcarla.Waypoint object at 0x000001B5F10AB630>, <carla.libcarla.Waypoint object at 0x000001B5F10AB450>), (<carla.libcarla.Waypoint object at 0x000001B5F10AB6F0>, <carla.libcarla.Waypoint object at 0x000001B5F10AB750>), (<carla.libcarla.Waypoint object at 0x000001B5F10AB5D0>, <carla.libcarla.Waypoint object at 0x000001B5F10AB570>), (<carla.libcarla.Waypoint object at 0x000001B5F10AB3F0>, <carla.libcarla.Waypoint object at 0x000001B5F10AB510>), (<carla.libcarla.Waypoint object at 0x000001B5F10AB270>, <carla.libcarla.Waypoint object at 0x000001B5F10AB330>), (<carla.libcarla.Waypoint object at 0x000001B5F10AB2D0>, <carla.libcarla.Waypoint object at 0x000001B5EAC091B0>), (<carla.libcarla.Waypoint object at 0x000001B5EAC09330>, <carla.libcarla.Waypoint object at 0x000001B5EAC09090>), (<carla.libcarla.Waypoint object at 0x000001B5F10A40F0>, <carla.libcarla.Waypoint object at 0x000001B5EAC00ED0>), (<carla.libcarla.Waypoint object at 0x000001B5EAC00C90>, <carla.libcarla.Waypoint object at 0x000001B5EAC00DB0>), (<carla.libcarla.Waypoint object at 0x000001B5EAC00B70>, <carla.libcarla.Waypoint object at 0x000001B5F0F68F30>), (<carla.libcarla.Waypoint object at 0x000001B5F0F68E70>, <carla.libcarla.Waypoint object at 0x000001B5F0F68ED0>), (<carla.libcarla.Waypoint object at 0x000001B5F0F68E10>, <carla.libcarla.Waypoint object at 0x000001B5F1127030>), (<carla.libcarla.Waypoint object at 0x000001B5F1127090>, <carla.libcarla.Waypoint object at 0x000001B5F11270F0>), (<carla.libcarla.Waypoint object at 0x000001B5F1127150>, <carla.libcarla.Waypoint object at 0x000001B5F11271B0>), (<carla.libcarla.Waypoint object at 0x000001B5F1127210>, <carla.libcarla.Waypoint object at 0x000001B5F1127270>), (<carla.libcarla.Waypoint object at 0x000001B5F11272D0>, <carla.libcarla.Waypoint object at 0x000001B5F1127330>), (<carla.libcarla.Waypoint object at 0x000001B5F1127390>, <carla.libcarla.Waypoint object at 0x000001B5F11273F0>), (<carla.libcarla.Waypoint object at 0x000001B5F1127450>, <carla.libcarla.Waypoint object at 0x000001B5F11274B0>), (<carla.libcarla.Waypoint object at 0x000001B5F1127510>, <carla.libcarla.Waypoint object at 0x000001B5F1127570>), (<carla.libcarla.Waypoint object at 0x000001B5F11275D0>, <carla.libcarla.Waypoint object at 0x000001B5F1127630>), (<carla.libcarla.Waypoint object at 0x000001B5F1127690>, <carla.libcarla.Waypoint object at 0x000001B5F11276F0>), (<carla.libcarla.Waypoint object at 0x000001B5F1127750>, <carla.libcarla.Waypoint object at 0x000001B5F11277B0>), (<carla.libcarla.Waypoint object at 0x000001B5F1127810>, <carla.libcarla.Waypoint object at 0x000001B5F1127870>), (<carla.libcarla.Waypoint object at 0x000001B5F11278D0>, <carla.libcarla.Waypoint object at 0x000001B5F1127930>), (<carla.libcarla.Waypoint object at 0x000001B5F1127990>, <carla.libcarla.Waypoint object at 0x000001B5F11279F0>), (<carla.libcarla.Waypoint object at 0x000001B5F1127A50>, <carla.libcarla.Waypoint object at 0x000001B5F1127AB0>), (<carla.libcarla.Waypoint object at 0x000001B5F1127B10>, <carla.libcarla.Waypoint object at 0x000001B5F1127B70>), (<carla.libcarla.Waypoint object at 0x000001B5F1127BD0>, <carla.libcarla.Waypoint object at 0x000001B5F1127C30>), (<carla.libcarla.Waypoint object at 0x000001B5F1127C90>, <carla.libcarla.Waypoint object at 0x000001B5F1127CF0>), (<carla.libcarla.Waypoint object at 0x000001B5F1127D50>, <carla.libcarla.Waypoint object at 0x000001B5F1127DB0>), (<carla.libcarla.Waypoint object at 0x000001B5F1127E10>, <carla.libcarla.Waypoint object at 0x000001B5F1127E70>), (<carla.libcarla.Waypoint object at 0x000001B5F1127ED0>, <carla.libcarla.Waypoint object at 0x000001B5F1127F30>), (<carla.libcarla.Waypoint object at 0x000001B5F1127F90>, <carla.libcarla.Waypoint object at 0x000001B5F112D030>), (<carla.libcarla.Waypoint object at 0x000001B5F112D090>, <carla.libcarla.Waypoint object at 0x000001B5F112D0F0>), (<carla.libcarla.Waypoint object at 0x000001B5F112D150>, <carla.libcarla.Waypoint object at 0x000001B5F112D1B0>), (<carla.libcarla.Waypoint object at 0x000001B5F112D210>, <carla.libcarla.Waypoint object at 0x000001B5F112D270>), (<carla.libcarla.Waypoint object at 0x000001B5F112D2D0>, <carla.libcarla.Waypoint object at 0x000001B5F112D330>), (<carla.libcarla.Waypoint object at 0x000001B5F112D390>, <carla.libcarla.Waypoint object at 0x000001B5F112D3F0>), (<carla.libcarla.Waypoint object at 0x000001B5F112D450>, <carla.libcarla.Waypoint object at 0x000001B5F112D4B0>), (<carla.libcarla.Waypoint object at 0x000001B5F112D510>, <carla.libcarla.Waypoint object at 0x000001B5F112D570>), (<carla.libcarla.Waypoint object at 0x000001B5F112D5D0>, <carla.libcarla.Waypoint object at 0x000001B5F112D630>), (<carla.libcarla.Waypoint object at 0x000001B5F112D690>, <carla.libcarla.Waypoint object at 0x000001B5F112D6F0>), (<carla.libcarla.Waypoint object at 0x000001B5F112D750>, <carla.libcarla.Waypoint object at 0x000001B5F112D7B0>), (<carla.libcarla.Waypoint object at 0x000001B5F112D810>, <carla.libcarla.Waypoint object at 0x000001B5F112D870>), (<carla.libcarla.Waypoint object at 0x000001B5F112D8D0>, <carla.libcarla.Waypoint object at 0x000001B5F112D930>), (<carla.libcarla.Waypoint object at 0x000001B5F112D990>, <carla.libcarla.Waypoint object at 0x000001B5F112D9F0>), (<carla.libcarla.Waypoint object at 0x000001B5F112DA50>, <carla.libcarla.Waypoint object at 0x000001B5F112DAB0>), (<carla.libcarla.Waypoint object at 0x000001B5F112DB10>, <carla.libcarla.Waypoint object at 0x000001B5F112DB70>), (<carla.libcarla.Waypoint object at 0x000001B5F112DBD0>, <carla.libcarla.Waypoint object at 0x000001B5F112DC30>), (<carla.libcarla.Waypoint object at 0x000001B5F112DC90>, <carla.libcarla.Waypoint object at 0x000001B5F112DCF0>), (<carla.libcarla.Waypoint object at 0x000001B5F112DD50>, <carla.libcarla.Waypoint object at 0x000001B5F112DDB0>), (<carla.libcarla.Waypoint object at 0x000001B5F112DE10>, <carla.libcarla.Waypoint object at 0x000001B5F112DE70>), (<carla.libcarla.Waypoint object at 0x000001B5F112DED0>, <carla.libcarla.Waypoint object at 0x000001B5F112DF30>), (<carla.libcarla.Waypoint object at 0x000001B5F112DF90>, <carla.libcarla.Waypoint object at 0x000001B5F112E030>), (<carla.libcarla.Waypoint object at 0x000001B5F112E090>, <carla.libcarla.Waypoint object at 0x000001B5F112E0F0>), (<carla.libcarla.Waypoint object at 0x000001B5F112E150>, <carla.libcarla.Waypoint object at 0x000001B5F112E1B0>), (<carla.libcarla.Waypoint object at 0x000001B5F112E210>, <carla.libcarla.Waypoint object at 0x000001B5F112E270>), (<carla.libcarla.Waypoint object at 0x000001B5F112E2D0>, <carla.libcarla.Waypoint object at 0x000001B5F112E330>), (<carla.libcarla.Waypoint object at 0x000001B5F112E390>, <carla.libcarla.Waypoint object at 0x000001B5F112E3F0>), (<carla.libcarla.Waypoint object at 0x000001B5F112E450>, <carla.libcarla.Waypoint object at 0x000001B5F112E4B0>), (<carla.libcarla.Waypoint object at 0x000001B5F112E510>, <carla.libcarla.Waypoint object at 0x000001B5F112E570>), (<carla.libcarla.Waypoint object at 0x000001B5F112E5D0>, <carla.libcarla.Waypoint object at 0x000001B5F112E630>), (<carla.libcarla.Waypoint object at 0x000001B5F112E690>, <carla.libcarla.Waypoint object at 0x000001B5F112E6F0>), (<carla.libcarla.Waypoint object at 0x000001B5F112E750>, <carla.libcarla.Waypoint object at 0x000001B5F112E7B0>), (<carla.libcarla.Waypoint object at 0x000001B5F112E810>, <carla.libcarla.Waypoint object at 0x000001B5F112E870>), (<carla.libcarla.Waypoint object at 0x000001B5F112E8D0>, <carla.libcarla.Waypoint object at 0x000001B5F112E930>), (<carla.libcarla.Waypoint object at 0x000001B5F112E990>, <carla.libcarla.Waypoint object at 0x000001B5F112E9F0>), (<carla.libcarla.Waypoint object at 0x000001B5F112EA50>, <carla.libcarla.Waypoint object at 0x000001B5F112EAB0>), (<carla.libcarla.Waypoint object at 0x000001B5F112EB10>, <carla.libcarla.Waypoint object at 0x000001B5F112EB70>), (<carla.libcarla.Waypoint object at 0x000001B5F112EBD0>, <carla.libcarla.Waypoint object at 0x000001B5F112EC30>), (<carla.libcarla.Waypoint object at 0x000001B5F112EC90>, <carla.libcarla.Waypoint object at 0x000001B5F112ECF0>), (<carla.libcarla.Waypoint object at 0x000001B5F112ED50>, <carla.libcarla.Waypoint object at 0x000001B5F112EDB0>), (<carla.libcarla.Waypoint object at 0x000001B5F112EE10>, <carla.libcarla.Waypoint object at 0x000001B5F112EE70>), (<carla.libcarla.Waypoint object at 0x000001B5F112EED0>, <carla.libcarla.Waypoint object at 0x000001B5F112EF30>), (<carla.libcarla.Waypoint object at 0x000001B5F112EF90>, <carla.libcarla.Waypoint object at 0x000001B5F112F030>), (<carla.libcarla.Waypoint object at 0x000001B5F112F090>, <carla.libcarla.Waypoint object at 0x000001B5F112F0F0>), (<carla.libcarla.Waypoint object at 0x000001B5F112F150>, <carla.libcarla.Waypoint object at 0x000001B5F112F1B0>), (<carla.libcarla.Waypoint object at 0x000001B5F112F210>, <carla.libcarla.Waypoint object at 0x000001B5F112F270>), (<carla.libcarla.Waypoint object at 0x000001B5F112F2D0>, <carla.libcarla.Waypoint object at 0x000001B5F112F330>), (<carla.libcarla.Waypoint object at 0x000001B5F112F390>, <carla.libcarla.Waypoint object at 0x000001B5F112F3F0>), (<carla.libcarla.Waypoint object at 0x000001B5F112F450>, <carla.libcarla.Waypoint object at 0x000001B5F112F4B0>), (<carla.libcarla.Waypoint object at 0x000001B5F112F510>, <carla.libcarla.Waypoint object at 0x000001B5F112F570>), (<carla.libcarla.Waypoint object at 0x000001B5F112F5D0>, <carla.libcarla.Waypoint object at 0x000001B5F112F630>), (<carla.libcarla.Waypoint object at 0x000001B5F112F690>, <carla.libcarla.Waypoint object at 0x000001B5F112F6F0>), (<carla.libcarla.Waypoint object at 0x000001B5F112F750>, <carla.libcarla.Waypoint object at 0x000001B5F112F7B0>), (<carla.libcarla.Waypoint object at 0x000001B5F112F810>, <carla.libcarla.Waypoint object at 0x000001B5F112F870>), (<carla.libcarla.Waypoint object at 0x000001B5F112F8D0>, <carla.libcarla.Waypoint object at 0x000001B5F112F930>), (<carla.libcarla.Waypoint object at 0x000001B5F112F990>, <carla.libcarla.Waypoint object at 0x000001B5F112F9F0>), (<carla.libcarla.Waypoint object at 0x000001B5F112FA50>, <carla.libcarla.Waypoint object at 0x000001B5F112FAB0>), (<carla.libcarla.Waypoint object at 0x000001B5F112FB10>, <carla.libcarla.Waypoint object at 0x000001B5F112FB70>), (<carla.libcarla.Waypoint object at 0x000001B5F112FBD0>, <carla.libcarla.Waypoint object at 0x000001B5F112FC30>), (<carla.libcarla.Waypoint object at 0x000001B5F112FC90>, <carla.libcarla.Waypoint object at 0x000001B5F112FCF0>), (<carla.libcarla.Waypoint object at 0x000001B5F112FD50>, <carla.libcarla.Waypoint object at 0x000001B5F112FDB0>), (<carla.libcarla.Waypoint object at 0x000001B5F112FE10>, <carla.libcarla.Waypoint object at 0x000001B5F112FE70>), (<carla.libcarla.Waypoint object at 0x000001B5F112FED0>, <carla.libcarla.Waypoint object at 0x000001B5F112FF30>), (<carla.libcarla.Waypoint object at 0x000001B5F112FF90>, <carla.libcarla.Waypoint object at 0x000001B5F14C0030>), (<carla.libcarla.Waypoint object at 0x000001B5F14C0090>, <carla.libcarla.Waypoint object at 0x000001B5F14C00F0>), (<carla.libcarla.Waypoint object at 0x000001B5F14C0150>, <carla.libcarla.Waypoint object at 0x000001B5F14C01B0>), (<carla.libcarla.Waypoint object at 0x000001B5F14C0210>, <carla.libcarla.Waypoint object at 0x000001B5F14C0270>), (<carla.libcarla.Waypoint object at 0x000001B5F14C02D0>, <carla.libcarla.Waypoint object at 0x000001B5F14C0330>), (<carla.libcarla.Waypoint object at 0x000001B5F14C0390>, <carla.libcarla.Waypoint object at 0x000001B5F14C03F0>), (<carla.libcarla.Waypoint object at 0x000001B5F14C0450>, <carla.libcarla.Waypoint object at 0x000001B5F14C04B0>), (<carla.libcarla.Waypoint object at 0x000001B5F14C0510>, <carla.libcarla.Waypoint object at 0x000001B5F14C0570>), (<carla.libcarla.Waypoint object at 0x000001B5F14C05D0>, <carla.libcarla.Waypoint object at 0x000001B5F14C0630>), (<carla.libcarla.Waypoint object at 0x000001B5F14C0690>, <carla.libcarla.Waypoint object at 0x000001B5F14C06F0>), (<carla.libcarla.Waypoint object at 0x000001B5F14C0750>, <carla.libcarla.Waypoint object at 0x000001B5F14C07B0>), (<carla.libcarla.Waypoint object at 0x000001B5F14C0810>, <carla.libcarla.Waypoint object at 0x000001B5F14C0870>), (<carla.libcarla.Waypoint object at 0x000001B5F14C08D0>, <carla.libcarla.Waypoint object at 0x000001B5F14C0930>), (<carla.libcarla.Waypoint object at 0x000001B5F14C0990>, <carla.libcarla.Waypoint object at 0x000001B5F14C09F0>), (<carla.libcarla.Waypoint object at 0x000001B5F14C0A50>, <carla.libcarla.Waypoint object at 0x000001B5F14C0AB0>), (<carla.libcarla.Waypoint object at 0x000001B5F14C0B10>, <carla.libcarla.Waypoint object at 0x000001B5F14C0B70>), (<carla.libcarla.Waypoint object at 0x000001B5F14C0BD0>, <carla.libcarla.Waypoint object at 0x000001B5F14C0C30>), (<carla.libcarla.Waypoint object at 0x000001B5F14C0C90>, <carla.libcarla.Waypoint object at 0x000001B5F14C0CF0>), (<carla.libcarla.Waypoint object at 0x000001B5F14C0D50>, <carla.libcarla.Waypoint object at 0x000001B5F14C0DB0>), (<carla.libcarla.Waypoint object at 0x000001B5F14C0E10>, <carla.libcarla.Waypoint object at 0x000001B5F14C0E70>), (<carla.libcarla.Waypoint object at 0x000001B5F14C0ED0>, <carla.libcarla.Waypoint object at 0x000001B5F14C0F30>), (<carla.libcarla.Waypoint object at 0x000001B5F14C0F90>, <carla.libcarla.Waypoint object at 0x000001B5F14C1030>), (<carla.libcarla.Waypoint object at 0x000001B5F14C1090>, <carla.libcarla.Waypoint object at 0x000001B5F14C10F0>), (<carla.libcarla.Waypoint object at 0x000001B5F14C1150>, <carla.libcarla.Waypoint object at 0x000001B5F14C11B0>), (<carla.libcarla.Waypoint object at 0x000001B5F14C1210>, <carla.libcarla.Waypoint object at 0x000001B5F14C1270>), (<carla.libcarla.Waypoint object at 0x000001B5F14C12D0>, <carla.libcarla.Waypoint object at 0x000001B5F14C1330>), (<carla.libcarla.Waypoint object at 0x000001B5F14C1390>, <carla.libcarla.Waypoint object at 0x000001B5F14C13F0>), (<carla.libcarla.Waypoint object at 0x000001B5F14C1450>, <carla.libcarla.Waypoint object at 0x000001B5F14C14B0>), (<carla.libcarla.Waypoint object at 0x000001B5F14C1510>, <carla.libcarla.Waypoint object at 0x000001B5F14C1570>), (<carla.libcarla.Waypoint object at 0x000001B5F14C15D0>, <carla.libcarla.Waypoint object at 0x000001B5F14C1630>), (<carla.libcarla.Waypoint object at 0x000001B5F14C1690>, <carla.libcarla.Waypoint object at 0x000001B5F14C16F0>), (<carla.libcarla.Waypoint object at 0x000001B5F14C1750>, <carla.libcarla.Waypoint object at 0x000001B5F14C17B0>), (<carla.libcarla.Waypoint object at 0x000001B5F14C1810>, <carla.libcarla.Waypoint object at 0x000001B5F14C1870>), (<carla.libcarla.Waypoint object at 0x000001B5F14C18D0>, <carla.libcarla.Waypoint object at 0x000001B5F14C1930>), (<carla.libcarla.Waypoint object at 0x000001B5F14C1990>, <carla.libcarla.Waypoint object at 0x000001B5F14C19F0>), (<carla.libcarla.Waypoint object at 0x000001B5F14C1A50>, <carla.libcarla.Waypoint object at 0x000001B5F14C1AB0>), (<carla.libcarla.Waypoint object at 0x000001B5F14C1B10>, <carla.libcarla.Waypoint object at 0x000001B5F14C1B70>), (<carla.libcarla.Waypoint object at 0x000001B5F14C1BD0>, <carla.libcarla.Waypoint object at 0x000001B5F14C1C30>), (<carla.libcarla.Waypoint object at 0x000001B5F14C1C90>, <carla.libcarla.Waypoint object at 0x000001B5F14C1CF0>), (<carla.libcarla.Waypoint object at 0x000001B5F14C1D50>, <carla.libcarla.Waypoint object at 0x000001B5F14C1DB0>), (<carla.libcarla.Waypoint object at 0x000001B5F14C1E10>, <carla.libcarla.Waypoint object at 0x000001B5F14C1E70>), (<carla.libcarla.Waypoint object at 0x000001B5F14C1ED0>, <carla.libcarla.Waypoint object at 0x000001B5F14C1F30>), (<carla.libcarla.Waypoint object at 0x000001B5F14C1F90>, <carla.libcarla.Waypoint object at 0x000001B5F14C2030>), (<carla.libcarla.Waypoint object at 0x000001B5F14C2090>, <carla.libcarla.Waypoint object at 0x000001B5F14C20F0>), (<carla.libcarla.Waypoint object at 0x000001B5F14C2150>, <carla.libcarla.Waypoint object at 0x000001B5F14C21B0>), (<carla.libcarla.Waypoint object at 0x000001B5F14C2210>, <carla.libcarla.Waypoint object at 0x000001B5F14C2270>), (<carla.libcarla.Waypoint object at 0x000001B5F14C22D0>, <carla.libcarla.Waypoint object at 0x000001B5F14C2330>), (<carla.libcarla.Waypoint object at 0x000001B5F14C2390>, <carla.libcarla.Waypoint object at 0x000001B5F14C23F0>), (<carla.libcarla.Waypoint object at 0x000001B5F14C2450>, <carla.libcarla.Waypoint object at 0x000001B5F14C24B0>), (<carla.libcarla.Waypoint object at 0x000001B5F14C2510>, <carla.libcarla.Waypoint object at 0x000001B5F14C2570>), (<carla.libcarla.Waypoint object at 0x000001B5F14C25D0>, <carla.libcarla.Waypoint object at 0x000001B5F14C2630>), (<carla.libcarla.Waypoint object at 0x000001B5F14C2690>, <carla.libcarla.Waypoint object at 0x000001B5F14C26F0>), (<carla.libcarla.Waypoint object at 0x000001B5F14C2750>, <carla.libcarla.Waypoint object at 0x000001B5F14C27B0>), (<carla.libcarla.Waypoint object at 0x000001B5F14C2810>, <carla.libcarla.Waypoint object at 0x000001B5F14C2870>), (<carla.libcarla.Waypoint object at 0x000001B5F14C28D0>, <carla.libcarla.Waypoint object at 0x000001B5F14C2930>), (<carla.libcarla.Waypoint object at 0x000001B5F14C2990>, <carla.libcarla.Waypoint object at 0x000001B5F14C29F0>), (<carla.libcarla.Waypoint object at 0x000001B5F14C2A50>, <carla.libcarla.Waypoint object at 0x000001B5F14C2AB0>), (<carla.libcarla.Waypoint object at 0x000001B5F14C2B10>, <carla.libcarla.Waypoint object at 0x000001B5F14C2B70>), (<carla.libcarla.Waypoint object at 0x000001B5F14C2BD0>, <carla.libcarla.Waypoint object at 0x000001B5F14C2C30>), (<carla.libcarla.Waypoint object at 0x000001B5F14C2C90>, <carla.libcarla.Waypoint object at 0x000001B5F14C2CF0>), (<carla.libcarla.Waypoint object at 0x000001B5F14C2D50>, <carla.libcarla.Waypoint object at 0x000001B5F14C2DB0>), (<carla.libcarla.Waypoint object at 0x000001B5F14C2E10>, <carla.libcarla.Waypoint object at 0x000001B5F14C2E70>), (<carla.libcarla.Waypoint object at 0x000001B5F14C2ED0>, <carla.libcarla.Waypoint object at 0x000001B5F14C2F30>), (<carla.libcarla.Waypoint object at 0x000001B5F14C2F90>, <carla.libcarla.Waypoint object at 0x000001B5F14C3030>), (<carla.libcarla.Waypoint object at 0x000001B5F14C3090>, <carla.libcarla.Waypoint object at 0x000001B5F14C30F0>), (<carla.libcarla.Waypoint object at 0x000001B5F14C3150>, <carla.libcarla.Waypoint object at 0x000001B5F14C31B0>), (<carla.libcarla.Waypoint object at 0x000001B5F14C3210>, <carla.libcarla.Waypoint object at 0x000001B5F14C3270>), (<carla.libcarla.Waypoint object at 0x000001B5F14C32D0>, <carla.libcarla.Waypoint object at 0x000001B5F14C3330>), (<carla.libcarla.Waypoint object at 0x000001B5F14C3390>, <carla.libcarla.Waypoint object at 0x000001B5F14C33F0>), (<carla.libcarla.Waypoint object at 0x000001B5F14C3450>, <carla.libcarla.Waypoint object at 0x000001B5F14C34B0>), (<carla.libcarla.Waypoint object at 0x000001B5F14C3510>, <carla.libcarla.Waypoint object at 0x000001B5F14C3570>), (<carla.libcarla.Waypoint object at 0x000001B5F14C35D0>, <carla.libcarla.Waypoint object at 0x000001B5F14C3630>), (<carla.libcarla.Waypoint object at 0x000001B5F14C3690>, <carla.libcarla.Waypoint object at 0x000001B5F14C36F0>), (<carla.libcarla.Waypoint object at 0x000001B5F14C3750>, <carla.libcarla.Waypoint object at 0x000001B5F14C37B0>), (<carla.libcarla.Waypoint object at 0x000001B5F14C3810>, <carla.libcarla.Waypoint object at 0x000001B5F14C3870>), (<carla.libcarla.Waypoint object at 0x000001B5F14C38D0>, <carla.libcarla.Waypoint object at 0x000001B5F14C3930>), (<carla.libcarla.Waypoint object at 0x000001B5F14C3990>, <carla.libcarla.Waypoint object at 0x000001B5F14C39F0>), (<carla.libcarla.Waypoint object at 0x000001B5F14C3A50>, <carla.libcarla.Waypoint object at 0x000001B5F14C3AB0>), (<carla.libcarla.Waypoint object at 0x000001B5F14C3B10>, <carla.libcarla.Waypoint object at 0x000001B5F14C3B70>), (<carla.libcarla.Waypoint object at 0x000001B5F14C3BD0>, <carla.libcarla.Waypoint object at 0x000001B5F14C3C30>), (<carla.libcarla.Waypoint object at 0x000001B5F14C3C90>, <carla.libcarla.Waypoint object at 0x000001B5F14C3CF0>), (<carla.libcarla.Waypoint object at 0x000001B5F14C3D50>, <carla.libcarla.Waypoint object at 0x000001B5F14C3DB0>), (<carla.libcarla.Waypoint object at 0x000001B5F14C3E10>, <carla.libcarla.Waypoint object at 0x000001B5F14C3E70>), (<carla.libcarla.Waypoint object at 0x000001B5F14C3ED0>, <carla.libcarla.Waypoint object at 0x000001B5F14C3F30>), (<carla.libcarla.Waypoint object at 0x000001B5F14C3F90>, <carla.libcarla.Waypoint object at 0x000001B5F14C4030>), (<carla.libcarla.Waypoint object at 0x000001B5F14C4090>, <carla.libcarla.Waypoint object at 0x000001B5F14C40F0>), (<carla.libcarla.Waypoint object at 0x000001B5F14C4150>, <carla.libcarla.Waypoint object at 0x000001B5F14C41B0>), (<carla.libcarla.Waypoint object at 0x000001B5F14C4210>, <carla.libcarla.Waypoint object at 0x000001B5F14C4270>), (<carla.libcarla.Waypoint object at 0x000001B5F14C42D0>, <carla.libcarla.Waypoint object at 0x000001B5F14C4330>), (<carla.libcarla.Waypoint object at 0x000001B5F14C4390>, <carla.libcarla.Waypoint object at 0x000001B5F14C43F0>), (<carla.libcarla.Waypoint object at 0x000001B5F14C4450>, <carla.libcarla.Waypoint object at 0x000001B5F14C44B0>), (<carla.libcarla.Waypoint object at 0x000001B5F14C4510>, <carla.libcarla.Waypoint object at 0x000001B5F14C4570>), (<carla.libcarla.Waypoint object at 0x000001B5F14C45D0>, <carla.libcarla.Waypoint object at 0x000001B5F14C4630>), (<carla.libcarla.Waypoint object at 0x000001B5F14C4690>, <carla.libcarla.Waypoint object at 0x000001B5F14C46F0>), (<carla.libcarla.Waypoint object at 0x000001B5F14C4750>, <carla.libcarla.Waypoint object at 0x000001B5F14C47B0>), (<carla.libcarla.Waypoint object at 0x000001B5F14C4810>, <carla.libcarla.Waypoint object at 0x000001B5F14C4870>), (<carla.libcarla.Waypoint object at 0x000001B5F14C48D0>, <carla.libcarla.Waypoint object at 0x000001B5F14C4930>), (<carla.libcarla.Waypoint object at 0x000001B5F14C4990>, <carla.libcarla.Waypoint object at 0x000001B5F14C49F0>), (<carla.libcarla.Waypoint object at 0x000001B5F14C4A50>, <carla.libcarla.Waypoint object at 0x000001B5F14C4AB0>), (<carla.libcarla.Waypoint object at 0x000001B5F14C4B10>, <carla.libcarla.Waypoint object at 0x000001B5F14C4B70>), (<carla.libcarla.Waypoint object at 0x000001B5F14C4BD0>, <carla.libcarla.Waypoint object at 0x000001B5F14C4C30>), (<carla.libcarla.Waypoint object at 0x000001B5F14C4C90>, <carla.libcarla.Waypoint object at 0x000001B5F14C4CF0>), (<carla.libcarla.Waypoint object at 0x000001B5F14C4D50>, <carla.libcarla.Waypoint object at 0x000001B5F14C4DB0>)]\n"
     ]
    }
   ],
   "source": [
    "# topology is pairs of waypoints defining all roads - tuples of those\n",
    "print(roads)"
   ]
  },
  {
   "cell_type": "code",
   "execution_count": 12,
   "id": "cf9d2de7-3a56-4351-8d33-b8fdcbfb568b",
   "metadata": {},
   "outputs": [
    {
     "name": "stdout",
     "output_type": "stream",
     "text": [
      "Waypoint(Transform(Location(x=109.929878, y=-9.334196, z=0.000000), Rotation(pitch=0.000000, yaw=-89.609253, roll=0.000000)))\n"
     ]
    }
   ],
   "source": [
    "# have a look ata a waypoint - itis transform wrapped as a waypoint\n",
    "print(roads[0][0])"
   ]
  },
  {
   "cell_type": "code",
   "execution_count": 13,
   "id": "f8d9d4b6-7b01-4e9e-9743-9992020ae0c4",
   "metadata": {},
   "outputs": [
    {
     "data": {
      "text/plain": [
       "200"
      ]
     },
     "execution_count": 13,
     "metadata": {},
     "output_type": "execute_result"
    }
   ],
   "source": [
    "len(roads)"
   ]
  },
  {
   "cell_type": "code",
   "execution_count": 14,
   "id": "9ae0675d-19dc-4e32-bbb8-526d2af01a54",
   "metadata": {},
   "outputs": [],
   "source": [
    "# making a route\n",
    "#from onw postion to another"
   ]
  },
  {
   "cell_type": "code",
   "execution_count": 15,
   "id": "db1c1b1a-bb41-481e-9f89-e9958a6f986b",
   "metadata": {},
   "outputs": [],
   "source": [
    "# import some code coming with the sim\n",
    "import sys\n",
    "sys.path.append('Z:\\CARLA_0.9.15\\WindowsNoEditor\\PythonAPI\\carla')\n",
    "from agents.navigation.global_route_planner import GlobalRoutePlanner"
   ]
  },
  {
   "cell_type": "code",
   "execution_count": 16,
   "id": "f363796d-736b-447b-b9ff-9f1b151ee25c",
   "metadata": {},
   "outputs": [],
   "source": [
    "# using the code to plan the route and then draw it in the simulator\n",
    "town10hd_map = world.get_map()\n",
    "\n",
    "sampling_resolution = 2\n",
    "\n",
    "grp = GlobalRoutePlanner(town_map, sampling_resolution)\n",
    "\n",
    "point_a = carla.Location(x=-64.644844, y=24.471010, z=-0.004847)\n",
    "point_b = carla.Location(x=14.355174, y=-67.902527, z=-0.004591)\n",
    "\n",
    "route = grp.trace_route(point_a, point_b) #there are other function can be use\n",
    "\n",
    "for waypoint in route:\n",
    "    world.debug.draw_string(waypoint[0].transform.location, '^', \n",
    "                            draw_shadow = False, \n",
    "                            color = carla.Color(r=0 , g=0 , b=255), \n",
    "                            life_time = 120.0, persistent_lines= True)\n",
    "    "
   ]
  },
  {
   "cell_type": "code",
   "execution_count": 17,
   "id": "668bfb93-d14b-43a6-b369-e1404772dd7c",
   "metadata": {},
   "outputs": [],
   "source": [
    "# utility script of destruction\n",
    "\n",
    "for actor in world.get_actors().filter('*vehicle*'):\n",
    "    actor.destroy()\n",
    "for sensor in world.get_actors().filter('*sensor*'):\n",
    "    sensor.destroy()\n"
   ]
  },
  {
   "cell_type": "code",
   "execution_count": 18,
   "id": "1695e36d-fd3e-4c04-bf0c-43ee8b9e750a",
   "metadata": {},
   "outputs": [],
   "source": [
    "# now we define 2 vehicles\n",
    "lincoln_bp = world.get_blueprint_library().filter('*vehicle.lincoln.mkz_2020*')\n",
    "mini_bp = world.get_blueprint_library().filter('*cooper_s*')\n",
    "\n",
    "#start first car in the already defined stard point\n",
    "lincoln = world.try_spawn_actor(lincoln_bp[0], start_point)"
   ]
  },
  {
   "cell_type": "code",
   "execution_count": 19,
   "id": "9c6cef1f-0082-4ff9-aaaf-065b330d025e",
   "metadata": {},
   "outputs": [],
   "source": [
    "# tweak spectator position to watch the show\n",
    "\n",
    "spectator = world.get_spectator()\n",
    "spawn_points = world.get_map().get_spawn_points()\n",
    "start_point = spawn_points[0]\n",
    "\n",
    "spectatoe_pos = carla.Transform(start_point.location + carla.Location(x=20, y=2, z=3),\n",
    "                               carla.Rotation(yaw = start_point.rotation.yaw - 180))\n",
    "spectator.set_transform(spectatoe_pos)"
   ]
  },
  {
   "cell_type": "code",
   "execution_count": 20,
   "id": "acf10ab8-55ad-4c41-8b85-54c5996646b6",
   "metadata": {},
   "outputs": [
    {
     "name": "stdout",
     "output_type": "stream",
     "text": [
      "Mini Cooper spawned successfully.\n"
     ]
    }
   ],
   "source": [
    "# drop the mini from sky\n",
    "\n",
    "# Get blueprints and spawn points\n",
    "blueprint_library = world.get_blueprint_library() # Make sure the blueprint is properly assigned\n",
    "mini_bp = blueprint_library.find('vehicle.audi.a2')  # Mini Cooper blueprint\n",
    "\n",
    "# Use a valid spawn point from the list, e.g., spawn_points[10]\n",
    "if len(spawn_points) > 10:\n",
    "    spawn_point = spawn_points[0]\n",
    "    # Adjust the z-coordinate for ground level\n",
    "    spawn_point.location.z = world.get_map().get_waypoint(spawn_point.location).transform.location.z\n",
    "    \n",
    "    # Apply an offset to the spawn point (e.g., move slightly above)\n",
    "    offset_spawn_point = carla.Transform(\n",
    "        spawn_point.location + carla.Location(x=-3, y=0, z=10),  # Adjust the Z value for offset\n",
    "        spawn_point.rotation  # Maintain the same rotation as the spawn point\n",
    "    )\n",
    "\n",
    "    try:\n",
    "        # Try to spawn the actor at the new position with the adjusted offset\n",
    "        mini = world.try_spawn_actor(mini_bp, offset_spawn_point)\n",
    "        if mini is None:\n",
    "            print(\"Failed to spawn even with an offset.\")\n",
    "        else:\n",
    "            print(\"Mini Cooper spawned successfully.\")\n",
    "            # Focus spectator on the spawned vehicle\n",
    "            spectator = world.get_spectator()\n",
    "            spawn_points = world.get_map().get_spawn_points()\n",
    "            start_point = spawn_points[0]\n",
    "\n",
    "            spectatoe_pos = carla.Transform(start_point.location + carla.Location(x=20, y=2, z=3),\n",
    "                               carla.Rotation(yaw = start_point.rotation.yaw - 180))\n",
    "            spectator.set_transform(spectatoe_pos)\n",
    "\n",
    "    except Exception as e:\n",
    "        print(f\"Error during spawn: {e}\")\n",
    "else:\n",
    "    print(\"Spawn point 10 does not exist.\")\n",
    "\n"
   ]
  },
  {
   "cell_type": "code",
   "execution_count": 21,
   "id": "66f4418b-ab2d-49f5-a066-42410041d57d",
   "metadata": {},
   "outputs": [
    {
     "name": "stdout",
     "output_type": "stream",
     "text": [
      "vehicle.audi.a2\n",
      "vehicle.nissan.micra\n",
      "vehicle.audi.tt\n",
      "vehicle.mercedes.coupe_2020\n",
      "vehicle.bmw.grandtourer\n",
      "vehicle.harley-davidson.low_rider\n",
      "vehicle.ford.ambulance\n",
      "vehicle.micro.microlino\n",
      "vehicle.carlamotors.firetruck\n",
      "vehicle.carlamotors.carlacola\n",
      "vehicle.carlamotors.european_hgv\n",
      "vehicle.ford.mustang\n",
      "vehicle.chevrolet.impala\n",
      "vehicle.lincoln.mkz_2020\n",
      "vehicle.citroen.c3\n",
      "vehicle.dodge.charger_police\n",
      "vehicle.nissan.patrol\n",
      "vehicle.jeep.wrangler_rubicon\n",
      "vehicle.mini.cooper_s\n",
      "vehicle.mercedes.coupe\n",
      "vehicle.dodge.charger_2020\n",
      "vehicle.ford.crown\n",
      "vehicle.seat.leon\n",
      "vehicle.toyota.prius\n",
      "vehicle.yamaha.yzf\n",
      "vehicle.kawasaki.ninja\n",
      "vehicle.bh.crossbike\n",
      "vehicle.mitsubishi.fusorosa\n",
      "vehicle.tesla.model3\n",
      "vehicle.gazelle.omafiets\n",
      "vehicle.tesla.cybertruck\n",
      "vehicle.diamondback.century\n",
      "vehicle.mercedes.sprinter\n",
      "vehicle.audi.etron\n",
      "vehicle.volkswagen.t2\n",
      "vehicle.lincoln.mkz_2017\n",
      "vehicle.dodge.charger_police_2020\n",
      "vehicle.vespa.zx125\n",
      "vehicle.mini.cooper_s_2021\n",
      "vehicle.nissan.patrol_2021\n",
      "vehicle.volkswagen.t2_2021\n",
      "Spawned vehicle: vehicle.audi.a2 at location: Location(x=85.982246, y=66.358490, z=0.600000)\n",
      "Spawned vehicle: vehicle.audi.a2 at location: Location(x=67.659744, y=69.822777, z=0.600000)\n",
      "Spawned vehicle: vehicle.tesla.model3 at location: Location(x=-75.343872, y=16.474657, z=0.600000)\n",
      "Spawned vehicle: vehicle.bmw.grandtourer at location: Location(x=109.956909, y=-27.333675, z=0.600000)\n",
      "Spawn failed at Location(x=-15.407496, y=133.728470, z=0.600000), trying again.\n",
      "Spawned vehicle: vehicle.bmw.grandtourer at location: Location(x=-15.407496, y=133.728470, z=0.600000)\n",
      "Spawned vehicle: vehicle.tesla.model3 at location: Location(x=-45.317440, y=-11.645325, z=0.600002)\n",
      "Spawned vehicle: vehicle.audi.a2 at location: Location(x=-41.749878, y=-41.373684, z=0.600000)\n",
      "Spawned vehicle: vehicle.audi.a2 at location: Location(x=-76.666107, y=24.471010, z=0.600000)\n",
      "Spawned vehicle: vehicle.tesla.model3 at location: Location(x=-79.275833, y=27.963758, z=0.600000)\n",
      "Spawned vehicle: vehicle.tesla.model3 at location: Location(x=-25.516296, y=24.613134, z=0.600000)\n"
     ]
    },
    {
     "ename": "KeyboardInterrupt",
     "evalue": "",
     "output_type": "error",
     "traceback": [
      "\u001b[1;31m---------------------------------------------------------------------------\u001b[0m",
      "\u001b[1;31mKeyboardInterrupt\u001b[0m                         Traceback (most recent call last)",
      "\u001b[1;32m~\\AppData\\Local\\Temp\\ipykernel_15704\\1968105823.py\u001b[0m in \u001b[0;36m<module>\u001b[1;34m\u001b[0m\n\u001b[0;32m     69\u001b[0m \u001b[1;33m\u001b[0m\u001b[0m\n\u001b[0;32m     70\u001b[0m \u001b[1;31m# Run the traffic generation\u001b[0m\u001b[1;33m\u001b[0m\u001b[1;33m\u001b[0m\u001b[1;33m\u001b[0m\u001b[0m\n\u001b[1;32m---> 71\u001b[1;33m \u001b[0mstart_traffic\u001b[0m\u001b[1;33m(\u001b[0m\u001b[1;33m)\u001b[0m\u001b[1;33m\u001b[0m\u001b[1;33m\u001b[0m\u001b[0m\n\u001b[0m",
      "\u001b[1;32m~\\AppData\\Local\\Temp\\ipykernel_15704\\1968105823.py\u001b[0m in \u001b[0;36mstart_traffic\u001b[1;34m()\u001b[0m\n\u001b[0;32m     61\u001b[0m \u001b[1;33m\u001b[0m\u001b[0m\n\u001b[0;32m     62\u001b[0m     \u001b[1;31m# Run traffic for 30 seconds (you can adjust this duration)\u001b[0m\u001b[1;33m\u001b[0m\u001b[1;33m\u001b[0m\u001b[1;33m\u001b[0m\u001b[0m\n\u001b[1;32m---> 63\u001b[1;33m     \u001b[0mtime\u001b[0m\u001b[1;33m.\u001b[0m\u001b[0msleep\u001b[0m\u001b[1;33m(\u001b[0m\u001b[1;36m30\u001b[0m\u001b[1;33m)\u001b[0m\u001b[1;33m\u001b[0m\u001b[1;33m\u001b[0m\u001b[0m\n\u001b[0m\u001b[0;32m     64\u001b[0m \u001b[1;33m\u001b[0m\u001b[0m\n\u001b[0;32m     65\u001b[0m     \u001b[1;31m# Destroy all vehicles after the traffic duration\u001b[0m\u001b[1;33m\u001b[0m\u001b[1;33m\u001b[0m\u001b[1;33m\u001b[0m\u001b[0m\n",
      "\u001b[1;31mKeyboardInterrupt\u001b[0m: "
     ]
    }
   ],
   "source": [
    "import carla\n",
    "import random\n",
    "import time\n",
    "\n",
    "# Connect to the CARLA client\n",
    "client = carla.Client('localhost', 2000)\n",
    "client.set_timeout(10.0)\n",
    "world = client.get_world()\n",
    "\n",
    "# Get the vehicle blueprint library\n",
    "blueprint_library = world.get_blueprint_library()\n",
    "\n",
    "# List available vehicle blueprints\n",
    "vehicle_blueprints = blueprint_library.filter('vehicle.*')\n",
    "for blueprint in vehicle_blueprints:\n",
    "    print(blueprint.id)  # This will print the available vehicle blueprints\n",
    "\n",
    "# Update the vehicle_types list with available vehicles\n",
    "vehicle_types = ['vehicle.tesla.model3', 'vehicle.audi.a2', 'vehicle.bmw.grandtourer']\n",
    "\n",
    "# Get all the spawn points available in the world\n",
    "spawn_points = world.get_map().get_spawn_points()\n",
    "\n",
    "# Function to spawn traffic vehicles\n",
    "def spawn_traffic(num_vehicles):\n",
    "    vehicles = []  # To store spawned vehicle actors\n",
    "    for _ in range(num_vehicles):\n",
    "        # Pick a random vehicle type from the list\n",
    "        vehicle_bp = random.choice(vehicle_types)\n",
    "\n",
    "        # Pick a random spawn point from the available spawn points\n",
    "        spawn_point = random.choice(spawn_points)\n",
    "\n",
    "        \n",
    "        # Ensure spawn point is valid\n",
    "        vehicle = None\n",
    "        for _ in range(10):  # Try up to 10 times to spawn at a valid location\n",
    "            vehicle = world.try_spawn_actor(blueprint_library.find(vehicle_bp), spawn_point)\n",
    "            if vehicle is not None:\n",
    "                print(f\"Spawned vehicle: {vehicle.type_id} at location: {spawn_point.location}\")\n",
    "                break\n",
    "            else:\n",
    "                # If spawn fails, try another spawn point\n",
    "                spawn_point = random.choice(spawn_points)\n",
    "                print(f\"Spawn failed at {spawn_point.location}, trying again.\")\n",
    "        \n",
    "        if vehicle is not None:\n",
    "            # Enable autopilot so the vehicle will drive around\n",
    "            vehicle.set_autopilot(True)\n",
    "            # Add the vehicle to the list of vehicles\n",
    "            vehicles.append(vehicle)\n",
    "        else:\n",
    "            print(\"Failed to spawn vehicle after multiple attempts.\")\n",
    "    \n",
    "    return vehicles\n",
    "\n",
    "# Function to start the traffic\n",
    "def start_traffic():\n",
    "    # Spawn 10 vehicles in the world (you can adjust the number as needed)\n",
    "    traffic_vehicles = spawn_traffic(10)\n",
    "\n",
    "    # Run traffic for 30 seconds (you can adjust this duration)\n",
    "    time.sleep(30)\n",
    "\n",
    "    # Destroy all vehicles after the traffic duration\n",
    "    for vehicle in traffic_vehicles:\n",
    "        vehicle.destroy()\n",
    "    print(\"Traffic destroyed.\")\n",
    "\n",
    "# Run the traffic generation\n",
    "start_traffic()"
   ]
  },
  {
   "cell_type": "code",
   "execution_count": null,
   "id": "d03d4ef7-5d78-4b53-ad40-85c26662a99d",
   "metadata": {},
   "outputs": [
    {
     "ename": "",
     "evalue": "",
     "output_type": "error",
     "traceback": [
      "\u001b[1;31mThe Kernel crashed while executing code in the current cell or a previous cell. \n",
      "\u001b[1;31mPlease review the code in the cell(s) to identify a possible cause of the failure. \n",
      "\u001b[1;31mClick <a href='https://aka.ms/vscodeJupyterKernelCrash'>here</a> for more info. \n",
      "\u001b[1;31mView Jupyter <a href='command:jupyter.viewOutput'>log</a> for further details."
     ]
    }
   ],
   "source": [
    "# utility script of destruction\n",
    "\n",
    "for actor in world.get_actors().filter('*vehicle*'):\n",
    "    actor.destroy()\n",
    "for sensor in world.get_actors().filter('*sensor*'):\n",
    "    sensor.destroy()\n"
   ]
  },
  {
   "cell_type": "code",
   "execution_count": null,
   "id": "8c1c2bdf-f0cf-493e-8596-d0ca3ed4e841",
   "metadata": {},
   "outputs": [],
   "source": []
  }
 ],
 "metadata": {
  "kernelspec": {
   "display_name": "carla-sim",
   "language": "python",
   "name": "python3"
  },
  "language_info": {
   "codemirror_mode": {
    "name": "ipython",
    "version": 3
   },
   "file_extension": ".py",
   "mimetype": "text/x-python",
   "name": "python",
   "nbconvert_exporter": "python",
   "pygments_lexer": "ipython3",
   "version": "3.7.16"
  }
 },
 "nbformat": 4,
 "nbformat_minor": 5
}
